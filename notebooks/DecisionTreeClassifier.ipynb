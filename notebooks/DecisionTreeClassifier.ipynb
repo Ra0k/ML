{
 "cells": [
  {
   "cell_type": "code",
   "execution_count": 1,
   "metadata": {},
   "outputs": [],
   "source": [
    "import math"
   ]
  },
  {
   "cell_type": "code",
   "execution_count": 2,
   "metadata": {},
   "outputs": [],
   "source": [
    "import pandas as pd\n",
    "from pandas.api.types import is_string_dtype\n",
    "from pandas.api.types import is_numeric_dtype"
   ]
  },
  {
   "cell_type": "code",
   "execution_count": 3,
   "metadata": {},
   "outputs": [],
   "source": [
    "import numpy as np"
   ]
  },
  {
   "cell_type": "code",
   "execution_count": 4,
   "metadata": {},
   "outputs": [],
   "source": [
    "class Node(object):\n",
    "    def __init__(self, value, neighbours=[]):\n",
    "        self.value = value\n",
    "        self.neighbours = neighbours\n",
    "        \n",
    "    def get_value(self):\n",
    "        return self.value\n",
    "    \n",
    "    def get_neighbours(self):\n",
    "        return self.neighbours"
   ]
  },
  {
   "cell_type": "code",
   "execution_count": 5,
   "metadata": {},
   "outputs": [],
   "source": [
    "class TreeNode(Node):\n",
    "    def __init__(self, value, children=[], parent=None):\n",
    "        Node.__init__(self, value=value, neighbours=None)\n",
    "        \n",
    "        self.children = children\n",
    "        self.parent = parent\n",
    "        \n",
    "    def get_children(self):\n",
    "        return self.children\n",
    "        \n",
    "    def get_parent(self):\n",
    "        return self.parent\n",
    "    \n",
    "    def is_root(self):\n",
    "        return self.parent == None\n",
    "    \n",
    "    def is_leaf(self):\n",
    "        return self.children == []\n",
    "    \n",
    "    def get_depth(self):\n",
    "        if self.is_root():\n",
    "            return 0\n",
    "        else:\n",
    "            return 1 + self.parent.get_depth()"
   ]
  },
  {
   "cell_type": "code",
   "execution_count": 6,
   "metadata": {},
   "outputs": [],
   "source": [
    "class Leaf(TreeNode):\n",
    "    def __init__(self, value, parent):\n",
    "        TreeNode.__init__(self, value=value, children=[], parent=parent)"
   ]
  },
  {
   "cell_type": "code",
   "execution_count": 7,
   "metadata": {},
   "outputs": [],
   "source": [
    "class DecisionNode(TreeNode):\n",
    "    def __init__(self, argument, dtype=\"Binary\", right=None, left=None, parent=None):\n",
    "        TreeNode.__init__(self, value=argument, children=[left, right], parent=parent)\n",
    "        self.type  = dtype\n",
    "        \n",
    "    def get_side(self):\n",
    "        if self.is_root():\n",
    "            return None\n",
    "        else:\n",
    "            if self == self.parent.get_children()[0]:\n",
    "                return 'left'\n",
    "            else:\n",
    "                return 'right'"
   ]
  },
  {
   "cell_type": "code",
   "execution_count": 8,
   "metadata": {},
   "outputs": [],
   "source": [
    "class DecisionTree(object):\n",
    "    def __init__(self, max_depth=2, result_label='label'):\n",
    "        self.arguments = None\n",
    "        self.max_depth = max_depth\n",
    "        self.tree = None\n",
    "        self.result_label = result_label\n",
    "        self.arg_property = dict()\n",
    "        \n",
    "    def compute_gini_index(self, data, argument, result_label='label'):\n",
    "        left_N = data[data[argument] == False].shape[0]\n",
    "        left_n = data[(data[argument] == False) & (data[result_label] == True)].shape[0]\n",
    "\n",
    "        try:\n",
    "            left_gini = 1 - (left_n/left_N) ** 2 - ( (left_N-left_n)/left_N) ** 2\n",
    "        except:\n",
    "            left_gini = 1\n",
    "\n",
    "        right_N = data[data[argument] == True].shape[0]\n",
    "        right_n = data[(data[argument] == True) & (data[result_label] == True)].shape[0]\n",
    "\n",
    "        try:\n",
    "            right_gini = 1 - (right_n/right_N) ** 2 - ( (right_N-right_n)/right_N) ** 2\n",
    "        except:\n",
    "            right_gini = 1\n",
    "\n",
    "        return left_N/(left_N+right_N) * left_gini + right_N/(left_N+right_N)*right_gini\n",
    "    \n",
    "    def get_best_split(self, data, arguments):\n",
    "        min_arg = None\n",
    "        min_E   = 1\n",
    "        \n",
    "        for arg in arguments:\n",
    "            E = self.compute_gini_index(data, arg, self.result_label)\n",
    "            if E < min_E:\n",
    "                min_E = E\n",
    "                min_arg = arg\n",
    "        \n",
    "        return min_arg, min_E \n",
    "    \n",
    "    def _filter_by_arg(self, data, argument, val):\n",
    "        if self.arg_property[argument]['type'] == 'categorical':\n",
    "            return data[data[argument] == val]\n",
    "        elif self.arg_property[argument]['type'] == 'numerical':\n",
    "            return data[data[argument] >= val]\n",
    "        else:\n",
    "            return None\n",
    "    \n",
    "    def train(self, data, arguments):\n",
    "        self.arguments = arguments\n",
    "        self._compute_arguments_properties(data)\n",
    "        \n",
    "        self.tree = self._build_tree(data, arguments=set(self.arguments), parent=None, level=0)\n",
    "        \n",
    "    def _build_tree(self, data, arguments, parent=None, level=0):\n",
    "        if len(arguments) != 0:\n",
    "            min_arg, min_gini = self.get_best_split(data, list(arguments))\n",
    "            node = DecisionNode(argument=min_arg, parent=parent)\n",
    "            \n",
    "            data_false = data[data[min_arg]==False]\n",
    "            data_true  = data[data[min_arg]==True]\n",
    "            \n",
    "            arguments = arguments - { min_arg }\n",
    "\n",
    "            node.left  = self._build_tree(data_false, arguments=arguments, parent=node, level=level+1)\n",
    "            node.right = self._build_tree(data_true,  arguments=arguments, parent=node, level=level+1)\n",
    "        else:\n",
    "            N = data.shape[0]\n",
    "            n = data[data[self.result_label] == True].shape[0]\n",
    "\n",
    "            node = Leaf({'True' : n/N, 'False' : (N-n)/N}, parent=parent)\n",
    "            \n",
    "        return node\n",
    "    \n",
    "    def _compute_arguments_properties(self, data):\n",
    "        self.arg_property = dict()\n",
    "        \n",
    "        for argument in self.arguments:\n",
    "            if is_string_dtype(data[argument]) or is_bool_dtype(data[argument]):\n",
    "                self.arg_property[argument] = { 'type' : 'categorical' , 'classes' : data[argument].unique() }\n",
    "            else:\n",
    "                self.arg_property[argument] = { 'type' : 'numerical' }\n",
    "                \n",
    "    def predict(self, data):\n",
    "        node = self.tree\n",
    "        \n",
    "        while not node.is_leaf():\n",
    "            if data[node.get_value()]:\n",
    "                node = node.right\n",
    "            else:\n",
    "                node = node.left\n",
    "                \n",
    "        return node.get_value()"
   ]
  },
  {
   "cell_type": "raw",
   "metadata": {},
   "source": [
    "class DecisionTree(object):\n",
    "    def __init__(self, arguments, max_depth=2):\n",
    "        self.arguments = arguments\n",
    "        self.max_depth = max_depth\n",
    "        self.tree = None\n",
    "    \n",
    "    def compute_cross_entropy(self, data, argument):\n",
    "        N, n = data.shape[0], data[data[argument] == True].shape[0]\n",
    "        \n",
    "        p = n/N\n",
    "        q = 1.0 - p\n",
    "        \n",
    "        try:\n",
    "            E = -p*math.log(p, 2) -q*math.log(q, 2)\n",
    "        except:\n",
    "            E = 0\n",
    "        \n",
    "        return E\n",
    "    \n",
    "    def minimalize_entropy(self, data, arguments):\n",
    "        min_arg = None\n",
    "        min_E   = 2\n",
    "        \n",
    "        for arg in arguments:\n",
    "            E = self.compute_cross_entropy(data, arg)\n",
    "            if E < min_E:\n",
    "                min_E = E\n",
    "                min_arg = arg\n",
    "                \n",
    "        node = BinaryNode(value=min_arg)\n",
    "        node.E = min_E\n",
    "        \n",
    "        return node\n",
    "    \n",
    "    def get_used_arguments(self, node):\n",
    "        if node.is_root():\n",
    "            return [ ( node.get_value(), None ) ]\n",
    "        else:\n",
    "            return  self.get_used_arguments( node.get_parent() ) + [ (node.get_value(), node.get_side()) ]\n",
    "    \n",
    "    def train(self, data):\n",
    "        self.tree = self.minimalize_entropy(data, self.arguments)\n",
    "        \n",
    "        leaves = [self.tree]\n",
    "        \n",
    "        for leaf in leaves:\n",
    "            used_args = self.get_used_arguments(leaf)\n",
    "            availabe_args = list(set(self.arguments) - set([pair[0] for pair in used_args]))\n",
    "            \n",
    "            if len(availabe_args) != 0:\n",
    "                filtered_data = data\n",
    "                for (arg, value) in used_args[:-2]:\n",
    "                    filtered_data = filtered_data[filtered_data[arg] == value]\n",
    "                \n",
    "                filtered_data1 = filtered_data[filtered_data[used_args[-1][0]] == False ]\n",
    "                filtered_data2 = filtered_data[filtered_data[used_args[-1][0]] == True ]\n",
    "                \n",
    "                leaf.left  = self.minimalize_entropy(filtered_data1, availabe_args)\n",
    "                leaf.right = self.minimalize_entropy(filtered_data2, availabe_args)\n",
    "                leaf.left.parent = leaf.right.parent = leaf\n",
    "            \n",
    "                leaves.append(leaf.left)\n",
    "                leaves.append(leaf.right)\n",
    "                \n",
    "    def predict(self, data):\n",
    "        node = self.tree\n",
    "        \n",
    "        while not node.is_leaf():\n",
    "            print(node.get_value())\n",
    "            if data[node.get_value()]:\n",
    "                node = node.right\n",
    "            else:\n",
    "                node = node.left\n",
    "                \n",
    "        return node.get_side()"
   ]
  },
  {
   "cell_type": "code",
   "execution_count": 9,
   "metadata": {},
   "outputs": [],
   "source": [
    "def print_tree(node):\n",
    "    print(node.value)\n",
    "    \n",
    "    if isinstance(node, Leaf):\n",
    "        return\n",
    "    else:\n",
    "        if node.left != None:\n",
    "            print('left: ')\n",
    "            print_tree(node.left)\n",
    "        else:\n",
    "            pass\n",
    "\n",
    "        if node.right != None:\n",
    "            print('right: ')\n",
    "            print_tree(node.right)\n",
    "        else:\n",
    "            pass"
   ]
  },
  {
   "cell_type": "code",
   "execution_count": 10,
   "metadata": {},
   "outputs": [],
   "source": [
    "DC = DecisionTree()"
   ]
  },
  {
   "cell_type": "code",
   "execution_count": 11,
   "metadata": {},
   "outputs": [],
   "source": [
    "data = pd.DataFrame({\n",
    "    'gender': [True, True, False, False],\n",
    "    'rainy': [True, False, True, False],\n",
    "    'label': [False, True, True, False]\n",
    "})"
   ]
  },
  {
   "cell_type": "code",
   "execution_count": 12,
   "metadata": {},
   "outputs": [],
   "source": [
    "DC.train(data, ['rainy', 'gender'])"
   ]
  },
  {
   "cell_type": "raw",
   "metadata": {},
   "source": [
    "print_tree(DC.tree)"
   ]
  },
  {
   "cell_type": "code",
   "execution_count": 13,
   "metadata": {},
   "outputs": [
    {
     "name": "stdout",
     "output_type": "stream",
     "text": [
      "{'True': 0.0, 'False': 1.0}\n"
     ]
    }
   ],
   "source": [
    "print( DC.predict({'gender': True, 'rainy': True }) )"
   ]
  },
  {
   "cell_type": "code",
   "execution_count": null,
   "metadata": {},
   "outputs": [],
   "source": []
  }
 ],
 "metadata": {
  "kernelspec": {
   "display_name": "Python 3",
   "language": "python",
   "name": "python3"
  },
  "language_info": {
   "codemirror_mode": {
    "name": "ipython",
    "version": 3
   },
   "file_extension": ".py",
   "mimetype": "text/x-python",
   "name": "python",
   "nbconvert_exporter": "python",
   "pygments_lexer": "ipython3",
   "version": "3.5.2"
  }
 },
 "nbformat": 4,
 "nbformat_minor": 2
}
