{
 "cells": [
  {
   "cell_type": "code",
   "execution_count": 1,
   "metadata": {},
   "outputs": [],
   "source": [
    "import numpy as np"
   ]
  },
  {
   "cell_type": "code",
   "execution_count": 2,
   "metadata": {},
   "outputs": [],
   "source": [
    "class MatrixFactorization(object):\n",
    "    def __init__(self, data, K):\n",
    "        '''\n",
    "        Arguments:\n",
    "        - data    : 2 dimensional rating matrix\n",
    "        - K       : number of latent dimensions\n",
    "        '''\n",
    "        \n",
    "        self.R = np.matrix(data)\n",
    "        self.D = np.zeros( self.R.shape )\n",
    "        self.K = K\n",
    "        \n",
    "        self.U = np.random.uniform( size=(self.R.shape[0], K) )\n",
    "        self.P = np.random.uniform( size=(K, self.R.shape[1]) )\n",
    "    \n",
    "    def _compure_error(self):\n",
    "        self.D = (self.R - self.estimate_all())\n",
    "        \n",
    "        return self.D\n",
    "    \n",
    "    def train(self, alpha=0.1, beta=0.02, iterations=1000):\n",
    "        '''\n",
    "        Arguments:\n",
    "        - alpha   : learning-rate \n",
    "        - beta    : regularization-rate\n",
    "        '''\n",
    "        \n",
    "        for _ in range(iterations):\n",
    "            self._compure_error()\n",
    "            \n",
    "            U = self.U\n",
    "            P = self.P\n",
    "            \n",
    "            for i in range(self.R.shape[0]):      \n",
    "                for j in range(self.R.shape[1]):\n",
    "                    for k in range(self.K):\n",
    "                        ik = alpha * ( P[k, j] * self.D[i, j] + beta * U[i, k])\n",
    "                        kj = alpha * ( U[i, k] * self.D[i, j] + beta * P[k, j])\n",
    "                        if np.isfinite(ik):\n",
    "                            self.U[i, k] += ik\n",
    "                        if np.isfinite(kj):\n",
    "                            self.P[k, j] += kj\n",
    "            \n",
    "            #non-negativity\n",
    "            self.U = self.U.clip(min=0)\n",
    "            self.P = self.P.clip(min=0)\n",
    "            \n",
    "        return np.nansum(np.nansum(abs(self._compure_error())))\n",
    "    \n",
    "    def estimate_all(self):\n",
    "        return self.U.dot(self.P)\n",
    "    \n",
    "    def estimate(self, x, y):\n",
    "        return self.U[x, :].dot(self.P[:, y])"
   ]
  },
  {
   "cell_type": "code",
   "execution_count": 3,
   "metadata": {},
   "outputs": [],
   "source": [
    "#test data\n",
    "\n",
    "R = np.array([\n",
    "    [5, 3, np.NaN, 1],\n",
    "    [4, np.NaN, np.NaN, 1],\n",
    "    [1, 1, np.NaN, 5],\n",
    "    [1, np.NaN, np.NaN, 4],\n",
    "    [np.NaN, 1, 5, 4],\n",
    "])"
   ]
  },
  {
   "cell_type": "code",
   "execution_count": 4,
   "metadata": {},
   "outputs": [],
   "source": [
    "MF = MatrixFactorization(data=R, K=2)"
   ]
  },
  {
   "cell_type": "code",
   "execution_count": 14,
   "metadata": {},
   "outputs": [
    {
     "name": "stdout",
     "output_type": "stream",
     "text": [
      "error: 0.00296703579419\n"
     ]
    }
   ],
   "source": [
    "error = MF.train(alpha=0.001, beta=0.0002, iterations=10000)\n",
    "print('error:', error)"
   ]
  },
  {
   "cell_type": "code",
   "execution_count": 15,
   "metadata": {},
   "outputs": [
    {
     "name": "stdout",
     "output_type": "stream",
     "text": [
      "estimated matrix:\n"
     ]
    },
    {
     "data": {
      "text/plain": [
       "array([[ 5.00045812,  3.00033639,  3.87416542,  0.99996082],\n",
       "       [ 4.00035669,  2.41693733,  3.31757522,  0.99999806],\n",
       "       [ 0.99995421,  1.00015325,  6.01260596,  5.00059617],\n",
       "       [ 1.0000441 ,  0.91682481,  4.92126818,  4.00031527],\n",
       "       [ 1.14238082,  0.99984231,  5.00031073,  4.00015174]])"
      ]
     },
     "execution_count": 15,
     "metadata": {},
     "output_type": "execute_result"
    }
   ],
   "source": [
    "print('estimated matrix:')\n",
    "MF.estimate_all()"
   ]
  },
  {
   "cell_type": "code",
   "execution_count": 16,
   "metadata": {},
   "outputs": [
    {
     "name": "stdout",
     "output_type": "stream",
     "text": [
      "User feature matrix:\n"
     ]
    },
    {
     "data": {
      "text/plain": [
       "array([[ 0.13289104,  2.27632664],\n",
       "       [ 0.19918949,  1.82105685],\n",
       "       [ 2.25556431,  0.45520278],\n",
       "       [ 1.79111615,  0.45524369],\n",
       "       [ 1.78160694,  0.52003873]])"
      ]
     },
     "execution_count": 16,
     "metadata": {},
     "output_type": "execute_result"
    }
   ],
   "source": [
    "print('User feature matrix:')\n",
    "MF.U"
   ]
  },
  {
   "cell_type": "code",
   "execution_count": 17,
   "metadata": {},
   "outputs": [
    {
     "name": "stdout",
     "output_type": "stream",
     "text": [
      "product feature matrix:\n"
     ]
    },
    {
     "data": {
      "text/plain": [
       "array([[ 0.        ,  0.17952905,  2.34988937,  2.15372523],\n",
       "       [ 2.19672257,  1.30757973,  1.56475178,  0.31355344]])"
      ]
     },
     "execution_count": 17,
     "metadata": {},
     "output_type": "execute_result"
    }
   ],
   "source": [
    "print('product feature matrix:')\n",
    "MF.P"
   ]
  },
  {
   "cell_type": "code",
   "execution_count": null,
   "metadata": {},
   "outputs": [],
   "source": []
  }
 ],
 "metadata": {
  "kernelspec": {
   "display_name": "Python 3",
   "language": "python",
   "name": "python3"
  },
  "language_info": {
   "codemirror_mode": {
    "name": "ipython",
    "version": 3
   },
   "file_extension": ".py",
   "mimetype": "text/x-python",
   "name": "python",
   "nbconvert_exporter": "python",
   "pygments_lexer": "ipython3",
   "version": "3.5.2"
  }
 },
 "nbformat": 4,
 "nbformat_minor": 2
}
