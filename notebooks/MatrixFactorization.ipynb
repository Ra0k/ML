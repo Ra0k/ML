{
 "cells": [
  {
   "cell_type": "code",
   "execution_count": 1,
   "metadata": {},
   "outputs": [],
   "source": [
    "import numpy as np"
   ]
  },
  {
   "cell_type": "code",
   "execution_count": 2,
   "metadata": {},
   "outputs": [],
   "source": [
    "class MatrixFactorization(object):\n",
    "    def __init__(self, data, k):\n",
    "        '''\n",
    "        Arguments:\n",
    "        - data    : 2 dimensional rating matrix\n",
    "        - k       : number of latent dimensions\n",
    "        '''\n",
    "        \n",
    "        self.R = np.matrix(data)\n",
    "        self.D = np.zeros( self.R.shape )\n",
    "        self.k = k\n",
    "        \n",
    "        self.U = 2*(np.random.uniform( size=(self.R.shape[0], k) )-.5)\n",
    "        self.P = 2*(np.random.uniform( size=(k, self.R.shape[1]) )-.5)\n",
    "    \n",
    "    def _compure_error(self):\n",
    "        self.D = (self.R - self.estimate_all())\n",
    "        \n",
    "        return self.D\n",
    "    \n",
    "    def train(self, alpha=0.1, beta=0.01, iterations=1000):\n",
    "        '''\n",
    "        Arguments:\n",
    "        - alpha   : learning-rate \n",
    "        - beta    : regularization-rate\n",
    "        '''\n",
    "        \n",
    "        for _ in range(iterations):\n",
    "            self._compure_error()\n",
    "            \n",
    "            U = self.U\n",
    "            P = self.P\n",
    "            \n",
    "            for i in range(self.R.shape[0]):      \n",
    "                for j in range(self.R.shape[1]):\n",
    "                    for k in range(self.k):\n",
    "                        ik = (alpha/self.k) * P[k, j] * self.D[i, j] \n",
    "                        kj = (alpha/self.k) * U[i, k] * self.D[i, j]\n",
    "                        if not np.isnan(ik):\n",
    "                            self.U[i, k] += ik\n",
    "                        if not np.isnan(kj):\n",
    "                            self.P[k, j] += kj\n",
    "    \n",
    "    def estimate_all(self):\n",
    "        return self.U.dot(self.P)\n",
    "    \n",
    "    def estimate(self, x, y):\n",
    "        return self.U[x, :].dot(self.P[:, y])"
   ]
  },
  {
   "cell_type": "code",
   "execution_count": 19,
   "metadata": {},
   "outputs": [],
   "source": [
    "R = np.array([\n",
    "    [np.NaN, 3, 0, 1],\n",
    "    [4, 0, 0, 1],\n",
    "    [1, 1, 0, 5],\n",
    "    [1, 0, 0, 4],\n",
    "    [0, 1, 5, 4],\n",
    "])"
   ]
  },
  {
   "cell_type": "code",
   "execution_count": 20,
   "metadata": {},
   "outputs": [],
   "source": [
    "MF = MatrixFactorization(data=R, k=2)"
   ]
  },
  {
   "cell_type": "code",
   "execution_count": 21,
   "metadata": {},
   "outputs": [],
   "source": [
    "MF.train(alpha=0.01, iterations=100000)"
   ]
  },
  {
   "cell_type": "code",
   "execution_count": 22,
   "metadata": {},
   "outputs": [
    {
     "data": {
      "text/plain": [
       "array([[  6.37665854e+01,   2.97687853e+00,  -7.64611859e-02,\n",
       "          1.04013556e+00],\n",
       "       [  3.98951939e+00,   3.03387274e-01,   3.40742477e-01,\n",
       "          7.87954360e-01],\n",
       "       [  1.02964996e+00,   7.11692509e-01,   1.95623886e+00,\n",
       "          4.11204517e+00],\n",
       "       [  9.88508505e-01,   5.61066461e-01,   1.51765618e+00,\n",
       "          3.19370766e+00],\n",
       "       [ -1.51235605e-02,   8.42020795e-01,   2.48578503e+00,\n",
       "          5.20025115e+00]])"
      ]
     },
     "execution_count": 22,
     "metadata": {},
     "output_type": "execute_result"
    }
   ],
   "source": [
    "MF.estimate_all()"
   ]
  },
  {
   "cell_type": "code",
   "execution_count": null,
   "metadata": {},
   "outputs": [],
   "source": []
  }
 ],
 "metadata": {
  "kernelspec": {
   "display_name": "Python 3",
   "language": "python",
   "name": "python3"
  },
  "language_info": {
   "codemirror_mode": {
    "name": "ipython",
    "version": 3
   },
   "file_extension": ".py",
   "mimetype": "text/x-python",
   "name": "python",
   "nbconvert_exporter": "python",
   "pygments_lexer": "ipython3",
   "version": "3.5.2"
  }
 },
 "nbformat": 4,
 "nbformat_minor": 2
}
