{
 "cells": [
  {
   "cell_type": "code",
   "execution_count": 1,
   "metadata": {},
   "outputs": [],
   "source": [
    "import numpy as np"
   ]
  },
  {
   "cell_type": "code",
   "execution_count": 2,
   "metadata": {},
   "outputs": [],
   "source": [
    "class MatrixFactorization(object):\n",
    "    def __init__(self, data, K):\n",
    "        '''\n",
    "        Arguments:\n",
    "        - data    : 2 dimensional rating matrix\n",
    "        - K       : number of latent dimensions\n",
    "        '''\n",
    "        \n",
    "        self.R = np.matrix(data)\n",
    "        self.D = np.zeros( self.R.shape )\n",
    "        self.K = K\n",
    "           \n",
    "        # User and Product biases\n",
    "        self.b   = np.nanmean(self.R)\n",
    "        self.u_b = np.zeros( self.R.shape[0] )\n",
    "        self.p_b = np.zeros( self.R.shape[1] )\n",
    "        \n",
    "        # User and Product matrix\n",
    "        self.U = np.random.uniform( size=(self.R.shape[0], K) )\n",
    "        self.P = np.random.uniform( size=(K, self.R.shape[1]) )\n",
    "    \n",
    "    def _compure_error(self):\n",
    "        self.D = (self.R - self.estimate_all())\n",
    "        \n",
    "        return self.D\n",
    "    \n",
    "    def train(self, alpha=0.1, beta=0.02, iterations=1000):\n",
    "        '''\n",
    "        Arguments:\n",
    "        - alpha   : learning-rate \n",
    "        - beta    : regularization-rate\n",
    "        '''\n",
    "        \n",
    "        for _ in range(iterations):\n",
    "            self._compure_error()\n",
    "            \n",
    "            for i in range(self.R.shape[0]):      \n",
    "                for j in range(self.R.shape[1]):\n",
    "                    for k in range(self.K):\n",
    "                        #update User and Product matrix\n",
    "                        U_ik = alpha * ( self.P[k, j] * self.D[i, j] - beta * self.U[i, k])\n",
    "                        P_kj = alpha * ( self.U[i, k] * self.D[i, j] - beta * self.P[k, j])\n",
    "                        if np.isfinite(U_ik):\n",
    "                            self.U[i, k] += U_ik\n",
    "                        if np.isfinite(P_kj):\n",
    "                            self.P[k, j] += P_kj\n",
    "                            \n",
    "                        #update User and Product biases\n",
    "                        Ub_i = alpha * ( self.D[i, j] - beta * self.u_b[i] )\n",
    "                        Pb_j = alpha * ( self.D[i, j] - beta * self.p_b[j] )\n",
    "                        if np.isfinite(Ub_i):\n",
    "                            self.u_b[i] += Ub_i\n",
    "                        if np.isfinite(Pb_j):\n",
    "                            self.p_b[j] += Pb_j      \n",
    "            \n",
    "            #non-negativity\n",
    "            #self.U = self.U.clip(min=0)\n",
    "            #self.P = self.P.clip(min=0)\n",
    "            \n",
    "        return np.nansum(np.nansum(abs(self._compure_error())))\n",
    "    \n",
    "    def estimate_all(self):\n",
    "        return self.U.dot(self.P) + self.b + self.u_b[:, np.newaxis] + self.p_b[np.newaxis, :]\n",
    "    \n",
    "    def estimate(self, x, y):\n",
    "        return self.U[x, :].dot(self.P[:, y]) + self.b + self.u_b[x] + self.p_b[y]"
   ]
  },
  {
   "cell_type": "code",
   "execution_count": 3,
   "metadata": {},
   "outputs": [],
   "source": [
    "#test data\n",
    "\n",
    "R = np.array([\n",
    "    [5, 3, np.NaN, 1],\n",
    "    [4, np.NaN, np.NaN, 1],\n",
    "    [1, 1, np.NaN, 5],\n",
    "    [1, np.NaN, np.NaN, 4],\n",
    "    [np.NaN, 1, 5, 4],\n",
    "])"
   ]
  },
  {
   "cell_type": "code",
   "execution_count": 4,
   "metadata": {},
   "outputs": [],
   "source": [
    "MF = MatrixFactorization(data=R, K=2)"
   ]
  },
  {
   "cell_type": "code",
   "execution_count": 5,
   "metadata": {},
   "outputs": [
    {
     "name": "stdout",
     "output_type": "stream",
     "text": [
      "error: 0.26834252751\n"
     ]
    }
   ],
   "source": [
    "error = MF.train(alpha=0.1, beta=0.002, iterations=20)\n",
    "print('error:', error)"
   ]
  },
  {
   "cell_type": "code",
   "execution_count": 6,
   "metadata": {},
   "outputs": [
    {
     "name": "stdout",
     "output_type": "stream",
     "text": [
      "estimated matrix:\n"
     ]
    },
    {
     "data": {
      "text/plain": [
       "array([[ 5.00805464,  2.98411143,  4.49311611,  1.00635882],\n",
       "       [ 3.99243489,  2.17574913,  4.46573376,  0.99903843],\n",
       "       [ 1.03987866,  0.9419602 ,  4.97507408,  5.00599279],\n",
       "       [ 0.98549215,  0.61960411,  4.79996952,  3.9906916 ],\n",
       "       [ 1.55335905,  1.06170269,  4.96490103,  4.00498465]])"
      ]
     },
     "execution_count": 6,
     "metadata": {},
     "output_type": "execute_result"
    }
   ],
   "source": [
    "print('estimated matrix:')\n",
    "MF.estimate_all()"
   ]
  },
  {
   "cell_type": "code",
   "execution_count": 7,
   "metadata": {},
   "outputs": [
    {
     "name": "stdout",
     "output_type": "stream",
     "text": [
      "User feature matrix:\n"
     ]
    },
    {
     "data": {
      "text/plain": [
       "array([[-0.61030899,  1.32046386],\n",
       "       [ 0.15603655,  1.37156962],\n",
       "       [ 0.60422337, -0.93885464],\n",
       "       [ 1.05725534, -0.33659867],\n",
       "       [ 0.83774909, -0.25396097]])"
      ]
     },
     "execution_count": 7,
     "metadata": {},
     "output_type": "execute_result"
    }
   ],
   "source": [
    "print('User feature matrix:')\n",
    "MF.U"
   ]
  },
  {
   "cell_type": "code",
   "execution_count": 8,
   "metadata": {},
   "outputs": [
    {
     "name": "stdout",
     "output_type": "stream",
     "text": [
      "product feature matrix:\n"
     ]
    },
    {
     "data": {
      "text/plain": [
       "array([[-0.51771884, -0.20174713,  0.85400494,  0.97951447],\n",
       "       [ 1.49983659,  0.81721177,  0.26754861, -1.22194507]])"
      ]
     },
     "execution_count": 8,
     "metadata": {},
     "output_type": "execute_result"
    }
   ],
   "source": [
    "print('product feature matrix:')\n",
    "MF.P"
   ]
  },
  {
   "cell_type": "code",
   "execution_count": null,
   "metadata": {},
   "outputs": [],
   "source": []
  }
 ],
 "metadata": {
  "kernelspec": {
   "display_name": "Python 3",
   "language": "python",
   "name": "python3"
  },
  "language_info": {
   "codemirror_mode": {
    "name": "ipython",
    "version": 3
   },
   "file_extension": ".py",
   "mimetype": "text/x-python",
   "name": "python",
   "nbconvert_exporter": "python",
   "pygments_lexer": "ipython3",
   "version": "3.5.2"
  }
 },
 "nbformat": 4,
 "nbformat_minor": 2
}
