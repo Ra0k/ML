{
 "cells": [
  {
   "cell_type": "code",
   "execution_count": 1,
   "metadata": {},
   "outputs": [],
   "source": [
    "import sys\n",
    "sys.path.append('../')"
   ]
  },
  {
   "cell_type": "code",
   "execution_count": 2,
   "metadata": {},
   "outputs": [],
   "source": [
    "import math\n",
    "import random\n",
    "import pandas as pd"
   ]
  },
  {
   "cell_type": "code",
   "execution_count": 3,
   "metadata": {},
   "outputs": [],
   "source": [
    "from ml.classification.DecisionTreeClassifier import DecisionTree\n",
    "from ml.validation.split_data import train_test_split\n",
    "from ml.validation.accuracy import accuracy"
   ]
  },
  {
   "cell_type": "code",
   "execution_count": 4,
   "metadata": {},
   "outputs": [],
   "source": [
    "class RandomForestClassifier(object):\n",
    "    def __init__(self, tree_number=15, result_label='label', max_depth=10):\n",
    "        self.trees = [ DecisionTree(max_depth=max_depth, result_label=result_label) for _ in range(tree_number)]\n",
    "        self.max_depth = max_depth\n",
    "        \n",
    "    def train(self, data, attributes, alpha=0.2, beta=0.5):\n",
    "        attributes_number = len(attributes)\n",
    "        row_number = data.shape[0]\n",
    "        \n",
    "        for tree in self.trees:\n",
    "            sampled_data = data.sample(n=int(alpha*row_number))\n",
    "            sampled_attr = random.sample(attributes.tolist(), int(beta*attributes_number))\n",
    "            tree.train(data=sampled_data, attributes=sampled_attr)\n",
    "            \n",
    "    def predict(self, data):\n",
    "        vote_true, vote_false = 0, 0\n",
    "        for tree in self.trees:\n",
    "            if tree.predict(data):\n",
    "                vote_true += 1\n",
    "            else:\n",
    "                vote_false += 1\n",
    "                \n",
    "        if vote_true > vote_false:\n",
    "            return True\n",
    "        elif vote_true < vote_false:\n",
    "            return False\n",
    "        else:\n",
    "            return random.choice([True, False])"
   ]
  },
  {
   "cell_type": "markdown",
   "metadata": {},
   "source": [
    "### Test - Hepatitis dataset"
   ]
  },
  {
   "cell_type": "code",
   "execution_count": 10,
   "metadata": {},
   "outputs": [],
   "source": [
    "hepatitis_all_data = pd.read_csv('../datasets/hepatitis.csv', header=None)"
   ]
  },
  {
   "cell_type": "code",
   "execution_count": 11,
   "metadata": {},
   "outputs": [],
   "source": [
    "#transform label\n",
    "for index, row in hepatitis_all_data.iterrows():\n",
    "    if row[0] == 1:\n",
    "        hepatitis_all_data.loc[index, 0] = False\n",
    "    else:\n",
    "        hepatitis_all_data.loc[index, 0] = True"
   ]
  },
  {
   "cell_type": "code",
   "execution_count": 12,
   "metadata": {},
   "outputs": [],
   "source": [
    "hepatitis_train_data, hepatitis_test_data = train_test_split(hepatitis_all_data, test_size=0.2)"
   ]
  },
  {
   "cell_type": "code",
   "execution_count": 13,
   "metadata": {},
   "outputs": [],
   "source": [
    "RandomF = RandomForestClassifier(tree_number=15, result_label=0, max_depth=4)\n",
    "RandomF.train(hepatitis_train_data, hepatitis_train_data.columns[1:].values, alpha=1, beta=0.5)"
   ]
  },
  {
   "cell_type": "code",
   "execution_count": 14,
   "metadata": {},
   "outputs": [
    {
     "data": {
      "text/plain": [
       "0.8709677419354839"
      ]
     },
     "execution_count": 14,
     "metadata": {},
     "output_type": "execute_result"
    }
   ],
   "source": [
    "accuracy(RandomF, hepatitis_test_data, result_label=0)"
   ]
  },
  {
   "cell_type": "code",
   "execution_count": null,
   "metadata": {},
   "outputs": [],
   "source": []
  }
 ],
 "metadata": {
  "kernelspec": {
   "display_name": "Python 3",
   "language": "python",
   "name": "python3"
  },
  "language_info": {
   "codemirror_mode": {
    "name": "ipython",
    "version": 3
   },
   "file_extension": ".py",
   "mimetype": "text/x-python",
   "name": "python",
   "nbconvert_exporter": "python",
   "pygments_lexer": "ipython3",
   "version": "3.5.2"
  }
 },
 "nbformat": 4,
 "nbformat_minor": 2
}
